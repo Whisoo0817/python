{
  "nbformat": 4,
  "nbformat_minor": 0,
  "metadata": {
    "colab": {
      "provenance": [],
      "authorship_tag": "ABX9TyPMy/rdoy6mqO6y4uS0zidN",
      "include_colab_link": true
    },
    "kernelspec": {
      "name": "python3",
      "display_name": "Python 3"
    },
    "language_info": {
      "name": "python"
    }
  },
  "cells": [
    {
      "cell_type": "markdown",
      "metadata": {
        "id": "view-in-github",
        "colab_type": "text"
      },
      "source": [
        "<a href=\"https://colab.research.google.com/github/20192931/python/blob/main/Data_extract.ipynb\" target=\"_parent\"><img src=\"https://colab.research.google.com/assets/colab-badge.svg\" alt=\"Open In Colab\"/></a>"
      ]
    },
    {
      "cell_type": "code",
      "execution_count": null,
      "metadata": {
        "id": "TivpvehPj5mC"
      },
      "outputs": [],
      "source": [
        "pip install requests"
      ]
    },
    {
      "cell_type": "code",
      "source": [
        "import requests\n",
        "import pandas as pd"
      ],
      "metadata": {
        "id": "QqXyqziGj7_3"
      },
      "execution_count": null,
      "outputs": []
    },
    {
      "cell_type": "code",
      "source": [
        "url=\"http://data.ex.co.kr/openapi/odtraffic/trafficAmountByUnit\"\n",
        "key=\"8254866006\""
      ],
      "metadata": {
        "id": "RirnXGufkBv1"
      },
      "execution_count": null,
      "outputs": []
    },
    {
      "cell_type": "code",
      "source": [
        "params={'key':key,'type':'xml','sumTmUnitTypeCode':'3','stdHour':'13','numOfRows':'1000','pageNo':'1'}"
      ],
      "metadata": {
        "id": "e9ON3Qynkig-"
      },
      "execution_count": null,
      "outputs": []
    },
    {
      "cell_type": "code",
      "source": [
        "response=requests.get(url,params=params)"
      ],
      "metadata": {
        "id": "1bgZ8ORrlJ8f"
      },
      "execution_count": null,
      "outputs": []
    },
    {
      "cell_type": "code",
      "source": [
        "response.content"
      ],
      "metadata": {
        "id": "2N8R8oy8lhUh"
      },
      "execution_count": null,
      "outputs": []
    },
    {
      "cell_type": "code",
      "source": [
        "data=str(response.content,\"utf-8\")\n",
        "data"
      ],
      "metadata": {
        "id": "k6nHM10Yll1p"
      },
      "execution_count": null,
      "outputs": []
    },
    {
      "cell_type": "code",
      "source": [
        "import xml.etree.ElementTree as ET"
      ],
      "metadata": {
        "id": "aFdccsU9mcJ-"
      },
      "execution_count": null,
      "outputs": []
    },
    {
      "cell_type": "code",
      "source": [
        "tree=ET.fromstring(data)\n",
        "tree"
      ],
      "metadata": {
        "id": "EnAcnLkXm7Dp"
      },
      "execution_count": null,
      "outputs": []
    },
    {
      "cell_type": "code",
      "source": [
        "len(tree)"
      ],
      "metadata": {
        "id": "3B3R8AZ2m_HP"
      },
      "execution_count": null,
      "outputs": []
    },
    {
      "cell_type": "code",
      "source": [
        "list(tree)"
      ],
      "metadata": {
        "id": "v3MU2Ectpbm8"
      },
      "execution_count": null,
      "outputs": []
    },
    {
      "cell_type": "code",
      "source": [
        "new_data=tree[5]\n",
        "print(len(new_data))\n",
        "print(new_data)"
      ],
      "metadata": {
        "id": "oI__BBN6pqLY"
      },
      "execution_count": null,
      "outputs": []
    },
    {
      "cell_type": "code",
      "source": [
        "for i in range(len(new_data)):\n",
        "  print(new_data[i].tag,new_data[i].text, i)"
      ],
      "metadata": {
        "id": "GxGKjDDSqjOS"
      },
      "execution_count": null,
      "outputs": []
    },
    {
      "cell_type": "code",
      "source": [
        "for a in range(3,102):\n",
        "  new_data=tree[a]\n",
        "  print(new_data[1].text,new_data[3].text,new_data[4].text,new_data[5].text,new_data[6].text,new_data[7].text,new_data[8].text,new_data[9].text,\n",
        "        new_data[10].text,new_data[12].text,new_data[13].text,new_data[11].tag,new_data[11].text)"
      ],
      "metadata": {
        "id": "BbI6AYg5qs8M"
      },
      "execution_count": null,
      "outputs": []
    },
    {
      "cell_type": "code",
      "source": [
        "df=[]\n",
        "for a in range(3,102):\n",
        "  temp=[]\n",
        "  for b in [4,11,13]:\n",
        "    temp.append(tree[a][b].text)\n",
        "  df.append(temp)\n",
        "\n",
        "df"
      ],
      "metadata": {
        "id": "Q61Gb7JEspFb"
      },
      "execution_count": null,
      "outputs": []
    },
    {
      "cell_type": "code",
      "source": [],
      "metadata": {
        "id": "qdmJMlvSsUeE"
      },
      "execution_count": null,
      "outputs": []
    }
  ]
}